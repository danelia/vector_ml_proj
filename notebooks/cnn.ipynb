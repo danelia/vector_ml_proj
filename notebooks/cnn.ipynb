{
 "cells": [
  {
   "cell_type": "code",
   "execution_count": 1,
   "metadata": {},
   "outputs": [],
   "source": [
    "import numpy as np\n",
    "\n",
    "from sklearn.model_selection import train_test_split\n",
    "\n",
    "from tensorflow.keras.datasets import fashion_mnist\n",
    "from tensorflow.keras.utils import to_categorical\n",
    "from tensorflow.keras.models import Sequential\n",
    "from tensorflow.keras.layers import Dense, Conv2D, Flatten, AveragePooling2D, MaxPooling2D, Dropout\n",
    "from tensorflow.keras.applications.inception_v3 import InceptionV3\n",
    "from tensorflow.keras.applications.vgg16 import VGG16\n",
    "\n",
    "from PIL import Image, ImageOps\n",
    "\n",
    "from matplotlib import pyplot as plt"
   ]
  },
  {
   "cell_type": "code",
   "execution_count": 47,
   "metadata": {},
   "outputs": [],
   "source": [
    "np.random.seed(42)"
   ]
  },
  {
   "cell_type": "code",
   "execution_count": 90,
   "metadata": {},
   "outputs": [],
   "source": [
    "(x_train, y_train), (x_test, y_test) = fashion_mnist.load_data()\n",
    "assert x_train.shape == (60000, 28, 28)\n",
    "assert x_test.shape == (10000, 28, 28)\n",
    "assert y_train.shape == (60000,)\n",
    "assert y_test.shape == (10000,)\n",
    "\n",
    "x_train, x_val, y_train, y_val = train_test_split(x_train, y_train, test_size=x_test.shape[0])"
   ]
  },
  {
   "cell_type": "code",
   "execution_count": 49,
   "metadata": {},
   "outputs": [
    {
     "data": {
      "text/plain": [
       "(50000, 28, 28)"
      ]
     },
     "execution_count": 49,
     "metadata": {},
     "output_type": "execute_result"
    }
   ],
   "source": [
    "x_train.shape"
   ]
  },
  {
   "cell_type": "code",
   "execution_count": 50,
   "metadata": {},
   "outputs": [
    {
     "name": "stdout",
     "output_type": "stream",
     "text": [
      "2\n"
     ]
    },
    {
     "data": {
      "text/plain": [
       "<matplotlib.image.AxesImage at 0x15c51ca90>"
      ]
     },
     "execution_count": 50,
     "metadata": {},
     "output_type": "execute_result"
    },
    {
     "data": {
      "image/png": "[encoded data removed]",
      "text/plain": [
       "<Figure size 432x288 with 1 Axes>"
      ]
     },
     "metadata": {
      "needs_background": "light"
     },
     "output_type": "display_data"
    }
   ],
   "source": [
    "print(y_train[101])\n",
    "plt.imshow(x_train[101], cmap='gray')"
   ]
  },
  {
   "cell_type": "code",
   "execution_count": 51,
   "metadata": {},
   "outputs": [],
   "source": [
    "x_train = x_train.reshape(x_train.shape + (1, ) )\n",
    "x_val = x_val.reshape(x_val.shape + (1, ) )\n",
    "x_test = x_test.reshape(x_test.shape + (1, ) )\n",
    "\n",
    "x_train = x_train.astype('float32') / 255\n",
    "x_val = x_val.astype('float32') / 255\n",
    "x_test = x_test.astype('float32') / 255\n",
    "\n",
    "y_train = to_categorical(y_train)\n",
    "y_val = to_categorical(y_val)\n",
    "y_test = to_categorical(y_test)"
   ]
  },
  {
   "cell_type": "code",
   "execution_count": 52,
   "metadata": {},
   "outputs": [
    {
     "name": "stdout",
     "output_type": "stream",
     "text": [
      "(50000, 28, 28, 1)\n",
      "(10000, 28, 28, 1)\n",
      "(50000, 10)\n",
      "(10000, 10)\n"
     ]
    }
   ],
   "source": [
    "print(x_train.shape)\n",
    "print(x_test.shape)\n",
    "\n",
    "print(y_train.shape)\n",
    "print(y_test.shape)"
   ]
  },
  {
   "cell_type": "code",
   "execution_count": 53,
   "metadata": {},
   "outputs": [],
   "source": [
    "num_classes = y_train.shape[1]\n",
    "input_shape = x_train[0].shape\n",
    "epochs = 20\n",
    "batch_size = 64"
   ]
  },
  {
   "cell_type": "code",
   "execution_count": 31,
   "metadata": {},
   "outputs": [
    {
     "name": "stdout",
     "output_type": "stream",
     "text": [
      "Model: \"sequential_2\"\n",
      "_________________________________________________________________\n",
      " Layer (type)                Output Shape              Param #   \n",
      "=================================================================\n",
      " conv2d_4 (Conv2D)           (None, 26, 26, 64)        640       \n",
      "                                                                 \n",
      " average_pooling2d_4 (Averag  (None, 13, 13, 64)       0         \n",
      " ePooling2D)                                                     \n",
      "                                                                 \n",
      " conv2d_5 (Conv2D)           (None, 11, 11, 32)        18464     \n",
      "                                                                 \n",
      " average_pooling2d_5 (Averag  (None, 5, 5, 32)         0         \n",
      " ePooling2D)                                                     \n",
      "                                                                 \n",
      " flatten_2 (Flatten)         (None, 800)               0         \n",
      "                                                                 \n",
      " dense_6 (Dense)             (None, 256)               205056    \n",
      "                                                                 \n",
      " dense_7 (Dense)             (None, 128)               32896     \n",
      "                                                                 \n",
      " dense_8 (Dense)             (None, 10)                1290      \n",
      "                                                                 \n",
      "=================================================================\n",
      "Total params: 258,346\n",
      "Trainable params: 258,346\n",
      "Non-trainable params: 0\n",
      "_________________________________________________________________\n"
     ]
    }
   ],
   "source": [
    "model = Sequential()\n",
    "\n",
    "model.add(Conv2D(64, kernel_size=3, activation='relu', input_shape=input_shape ))\n",
    "model.add(AveragePooling2D())\n",
    "\n",
    "model.add(Conv2D(32, kernel_size=3, activation='relu'))\n",
    "model.add(AveragePooling2D())\n",
    "\n",
    "model.add(Flatten())\n",
    "model.add(Dense(256, activation='relu'))\n",
    "\n",
    "model.add(Dense(128, activation='relu'))\n",
    "\n",
    "model.add(Dense(num_classes, activation='softmax'))\n",
    "\n",
    "model.compile(optimizer='adam', loss='categorical_crossentropy', metrics=['accuracy'])\n",
    "\n",
    "model.summary()"
   ]
  },
  {
   "cell_type": "code",
   "execution_count": 32,
   "metadata": {},
   "outputs": [
    {
     "name": "stdout",
     "output_type": "stream",
     "text": [
      "Epoch 1/20\n",
      "797/797 [==============================] - 26s 32ms/step - loss: 0.5787 - accuracy: 0.7860 - val_loss: 0.4182 - val_accuracy: 0.8440\n",
      "Epoch 2/20\n",
      "797/797 [==============================] - 27s 34ms/step - loss: 0.3745 - accuracy: 0.8627 - val_loss: 0.3690 - val_accuracy: 0.8614\n",
      "Epoch 3/20\n",
      "797/797 [==============================] - 27s 33ms/step - loss: 0.3179 - accuracy: 0.8832 - val_loss: 0.3116 - val_accuracy: 0.8881\n",
      "Epoch 4/20\n",
      "797/797 [==============================] - 26s 33ms/step - loss: 0.2854 - accuracy: 0.8951 - val_loss: 0.2828 - val_accuracy: 0.8950\n",
      "Epoch 5/20\n",
      "797/797 [==============================] - 28s 35ms/step - loss: 0.2610 - accuracy: 0.9029 - val_loss: 0.3003 - val_accuracy: 0.8900\n",
      "Epoch 6/20\n",
      "797/797 [==============================] - 29s 36ms/step - loss: 0.2420 - accuracy: 0.9105 - val_loss: 0.2553 - val_accuracy: 0.9064\n",
      "Epoch 7/20\n",
      "797/797 [==============================] - 28s 35ms/step - loss: 0.2246 - accuracy: 0.9154 - val_loss: 0.2621 - val_accuracy: 0.9019\n",
      "Epoch 8/20\n",
      "797/797 [==============================] - 28s 35ms/step - loss: 0.2105 - accuracy: 0.9205 - val_loss: 0.2568 - val_accuracy: 0.9074\n",
      "Epoch 9/20\n",
      "797/797 [==============================] - 28s 35ms/step - loss: 0.1964 - accuracy: 0.9262 - val_loss: 0.2515 - val_accuracy: 0.9071\n",
      "Epoch 10/20\n",
      "797/797 [==============================] - 28s 35ms/step - loss: 0.1795 - accuracy: 0.9319 - val_loss: 0.2440 - val_accuracy: 0.9127\n",
      "Epoch 11/20\n",
      "797/797 [==============================] - 28s 35ms/step - loss: 0.1682 - accuracy: 0.9358 - val_loss: 0.2632 - val_accuracy: 0.9040\n",
      "Epoch 12/20\n",
      "797/797 [==============================] - 28s 35ms/step - loss: 0.1574 - accuracy: 0.9406 - val_loss: 0.2546 - val_accuracy: 0.9103\n",
      "Epoch 13/20\n",
      "797/797 [==============================] - 28s 35ms/step - loss: 0.1434 - accuracy: 0.9469 - val_loss: 0.2634 - val_accuracy: 0.9087\n",
      "Epoch 14/20\n",
      "797/797 [==============================] - 29s 36ms/step - loss: 0.1316 - accuracy: 0.9504 - val_loss: 0.2754 - val_accuracy: 0.9096\n",
      "Epoch 15/20\n",
      "797/797 [==============================] - 29s 36ms/step - loss: 0.1212 - accuracy: 0.9547 - val_loss: 0.2854 - val_accuracy: 0.9072\n",
      "Epoch 16/20\n",
      "797/797 [==============================] - 27s 34ms/step - loss: 0.1100 - accuracy: 0.9575 - val_loss: 0.2824 - val_accuracy: 0.9151\n",
      "Epoch 17/20\n",
      "797/797 [==============================] - 28s 35ms/step - loss: 0.1022 - accuracy: 0.9610 - val_loss: 0.2822 - val_accuracy: 0.9132\n",
      "Epoch 18/20\n",
      "797/797 [==============================] - 27s 34ms/step - loss: 0.0935 - accuracy: 0.9649 - val_loss: 0.2986 - val_accuracy: 0.9154\n",
      "Epoch 19/20\n",
      "797/797 [==============================] - 28s 35ms/step - loss: 0.0842 - accuracy: 0.9678 - val_loss: 0.2971 - val_accuracy: 0.9119\n",
      "Epoch 20/20\n",
      "797/797 [==============================] - 28s 35ms/step - loss: 0.0774 - accuracy: 0.9707 - val_loss: 0.3328 - val_accuracy: 0.9103\n"
     ]
    },
    {
     "data": {
      "text/plain": [
       "<keras.callbacks.History at 0x1432a3820>"
      ]
     },
     "execution_count": 32,
     "metadata": {},
     "output_type": "execute_result"
    }
   ],
   "source": [
    "model.fit(x_train, y_train, validation_split=0.15, batch_size=batch_size, epochs=epochs)"
   ]
  },
  {
   "cell_type": "code",
   "execution_count": 33,
   "metadata": {},
   "outputs": [
    {
     "name": "stdout",
     "output_type": "stream",
     "text": [
      "313/313 [==============================] - 1s 4ms/step - loss: 0.3641 - accuracy: 0.9095\n"
     ]
    },
    {
     "data": {
      "text/plain": [
       "[0.3641086518764496, 0.909500002861023]"
      ]
     },
     "execution_count": 33,
     "metadata": {},
     "output_type": "execute_result"
    }
   ],
   "source": [
    "model.evaluate(x_test, y_test)"
   ]
  },
  {
   "cell_type": "code",
   "execution_count": null,
   "metadata": {},
   "outputs": [],
   "source": []
  },
  {
   "cell_type": "code",
   "execution_count": 54,
   "metadata": {},
   "outputs": [
    {
     "name": "stdout",
     "output_type": "stream",
     "text": [
      "Model: \"sequential_2\"\n",
      "_________________________________________________________________\n",
      " Layer (type)                Output Shape              Param #   \n",
      "=================================================================\n",
      " conv2d_4 (Conv2D)           (None, 26, 26, 64)        640       \n",
      "                                                                 \n",
      " average_pooling2d_4 (Averag  (None, 13, 13, 64)       0         \n",
      " ePooling2D)                                                     \n",
      "                                                                 \n",
      " dropout_8 (Dropout)         (None, 13, 13, 64)        0         \n",
      "                                                                 \n",
      " conv2d_5 (Conv2D)           (None, 11, 11, 32)        18464     \n",
      "                                                                 \n",
      " average_pooling2d_5 (Averag  (None, 5, 5, 32)         0         \n",
      " ePooling2D)                                                     \n",
      "                                                                 \n",
      " dropout_9 (Dropout)         (None, 5, 5, 32)          0         \n",
      "                                                                 \n",
      " flatten_2 (Flatten)         (None, 800)               0         \n",
      "                                                                 \n",
      " dense_6 (Dense)             (None, 256)               205056    \n",
      "                                                                 \n",
      " dropout_10 (Dropout)        (None, 256)               0         \n",
      "                                                                 \n",
      " dense_7 (Dense)             (None, 128)               32896     \n",
      "                                                                 \n",
      " dropout_11 (Dropout)        (None, 128)               0         \n",
      "                                                                 \n",
      " dense_8 (Dense)             (None, 10)                1290      \n",
      "                                                                 \n",
      "=================================================================\n",
      "Total params: 258,346\n",
      "Trainable params: 258,346\n",
      "Non-trainable params: 0\n",
      "_________________________________________________________________\n"
     ]
    }
   ],
   "source": [
    "model = Sequential()\n",
    "\n",
    "model.add(Conv2D(64, kernel_size=3, activation='relu', input_shape=input_shape ))\n",
    "model.add(AveragePooling2D())\n",
    "model.add(Dropout(0.25))\n",
    "\n",
    "model.add(Conv2D(32, kernel_size=3, activation='relu'))\n",
    "model.add(AveragePooling2D())\n",
    "model.add(Dropout(0.25))\n",
    "\n",
    "model.add(Flatten())\n",
    "model.add(Dense(256, activation='relu'))\n",
    "model.add(Dropout(0.25))\n",
    "\n",
    "model.add(Dense(128, activation='relu'))\n",
    "model.add(Dropout(0.25))\n",
    "\n",
    "model.add(Dense(num_classes, activation='softmax'))\n",
    "\n",
    "model.compile(optimizer='adam', loss='categorical_crossentropy', metrics=['accuracy'])\n",
    "\n",
    "model.summary()"
   ]
  },
  {
   "cell_type": "code",
   "execution_count": 56,
   "metadata": {},
   "outputs": [
    {
     "name": "stdout",
     "output_type": "stream",
     "text": [
      "Epoch 1/20\n",
      "782/782 [==============================] - 29s 36ms/step - loss: 0.6846 - accuracy: 0.7439 - val_loss: 0.4518 - val_accuracy: 0.8283\n",
      "Epoch 2/20\n",
      "782/782 [==============================] - 32s 40ms/step - loss: 0.4566 - accuracy: 0.8307 - val_loss: 0.3861 - val_accuracy: 0.8583\n",
      "Epoch 3/20\n",
      "782/782 [==============================] - 31s 40ms/step - loss: 0.3964 - accuracy: 0.8536 - val_loss: 0.3186 - val_accuracy: 0.8829\n",
      "Epoch 4/20\n",
      "782/782 [==============================] - 29s 36ms/step - loss: 0.3574 - accuracy: 0.8680 - val_loss: 0.3113 - val_accuracy: 0.8859\n",
      "Epoch 5/20\n",
      "782/782 [==============================] - 29s 37ms/step - loss: 0.3321 - accuracy: 0.8778 - val_loss: 0.2934 - val_accuracy: 0.8943\n",
      "Epoch 6/20\n",
      "782/782 [==============================] - 30s 39ms/step - loss: 0.3154 - accuracy: 0.8839 - val_loss: 0.2840 - val_accuracy: 0.8946\n",
      "Epoch 7/20\n",
      "782/782 [==============================] - 32s 41ms/step - loss: 0.2994 - accuracy: 0.8889 - val_loss: 0.2705 - val_accuracy: 0.9038\n",
      "Epoch 8/20\n",
      "782/782 [==============================] - 28s 35ms/step - loss: 0.2865 - accuracy: 0.8946 - val_loss: 0.2617 - val_accuracy: 0.9050\n",
      "Epoch 9/20\n",
      "782/782 [==============================] - 27s 35ms/step - loss: 0.2778 - accuracy: 0.8970 - val_loss: 0.2702 - val_accuracy: 0.8973\n",
      "Epoch 10/20\n",
      "782/782 [==============================] - 28s 36ms/step - loss: 0.2674 - accuracy: 0.8996 - val_loss: 0.2521 - val_accuracy: 0.9072\n",
      "Epoch 11/20\n",
      "782/782 [==============================] - 27s 34ms/step - loss: 0.2621 - accuracy: 0.9041 - val_loss: 0.2543 - val_accuracy: 0.9068\n",
      "Epoch 12/20\n",
      "782/782 [==============================] - 26s 34ms/step - loss: 0.2537 - accuracy: 0.9045 - val_loss: 0.2563 - val_accuracy: 0.9031\n",
      "Epoch 13/20\n",
      "782/782 [==============================] - 27s 34ms/step - loss: 0.2453 - accuracy: 0.9077 - val_loss: 0.2494 - val_accuracy: 0.9042\n",
      "Epoch 14/20\n",
      "782/782 [==============================] - 27s 34ms/step - loss: 0.2415 - accuracy: 0.9111 - val_loss: 0.2492 - val_accuracy: 0.9087\n",
      "Epoch 15/20\n",
      "782/782 [==============================] - 30s 38ms/step - loss: 0.2343 - accuracy: 0.9123 - val_loss: 0.2339 - val_accuracy: 0.9146\n",
      "Epoch 16/20\n",
      "782/782 [==============================] - 31s 40ms/step - loss: 0.2287 - accuracy: 0.9133 - val_loss: 0.2366 - val_accuracy: 0.9147\n",
      "Epoch 17/20\n",
      "782/782 [==============================] - 28s 35ms/step - loss: 0.2260 - accuracy: 0.9157 - val_loss: 0.2287 - val_accuracy: 0.9178\n",
      "Epoch 18/20\n",
      "782/782 [==============================] - 32s 41ms/step - loss: 0.2194 - accuracy: 0.9170 - val_loss: 0.2299 - val_accuracy: 0.9139\n",
      "Epoch 19/20\n",
      "782/782 [==============================] - 30s 38ms/step - loss: 0.2160 - accuracy: 0.9187 - val_loss: 0.2296 - val_accuracy: 0.9160\n",
      "Epoch 20/20\n",
      "782/782 [==============================] - 28s 36ms/step - loss: 0.2127 - accuracy: 0.9214 - val_loss: 0.2391 - val_accuracy: 0.9109\n"
     ]
    },
    {
     "data": {
      "text/plain": [
       "<keras.callbacks.History at 0x15c597c40>"
      ]
     },
     "execution_count": 56,
     "metadata": {},
     "output_type": "execute_result"
    }
   ],
   "source": [
    "model.fit(x_train, y_train, validation_data=(x_val, y_val), batch_size=batch_size, epochs=epochs)"
   ]
  },
  {
   "cell_type": "code",
   "execution_count": 57,
   "metadata": {},
   "outputs": [
    {
     "name": "stdout",
     "output_type": "stream",
     "text": [
      "313/313 [==============================] - 1s 3ms/step - loss: 0.2451 - accuracy: 0.9123\n"
     ]
    },
    {
     "data": {
      "text/plain": [
       "[0.2450890690088272, 0.9122999906539917]"
      ]
     },
     "execution_count": 57,
     "metadata": {},
     "output_type": "execute_result"
    }
   ],
   "source": [
    "model.evaluate(x_test, y_test)"
   ]
  },
  {
   "cell_type": "code",
   "execution_count": 58,
   "metadata": {},
   "outputs": [],
   "source": [
    "model.save('../models/saved/model.h5')"
   ]
  },
  {
   "cell_type": "code",
   "execution_count": null,
   "metadata": {},
   "outputs": [],
   "source": []
  }
 ],
 "metadata": {
  "interpreter": {
   "hash": "8277220c763fd7c6119dc3ab110c35a7ca0f1abc23ebd614c1ae6fec52de8163"
  },
  "kernelspec": {
   "display_name": "Python 3.9.7 64-bit ('env': venv)",
   "name": "python3"
  },
  "language_info": {
   "codemirror_mode": {
    "name": "ipython",
    "version": 3
   },
   "file_extension": ".py",
   "mimetype": "text/x-python",
   "name": "python",
   "nbconvert_exporter": "python",
   "pygments_lexer": "ipython3",
   "version": "3.9.7"
  },
  "orig_nbformat": 4
 },
 "nbformat": 4,
 "nbformat_minor": 2
}
